{
 "cells": [
  {
   "cell_type": "code",
   "execution_count": 174,
   "id": "39c436ff",
   "metadata": {},
   "outputs": [],
   "source": [
    "import numpy as np\n",
    "from sklearn.linear_model import LinearRegression\n",
    "import scipy.stats as stats\n"
   ]
  },
  {
   "cell_type": "markdown",
   "id": "f182c678",
   "metadata": {},
   "source": [
    "#### 1. Даны значения величины заработной платы заемщиков банка (zp) и значения их поведенческого кредитного скоринга (ks): \n",
    "\n",
    "zp = [35, 45, 190, 200, 40, 70, 54, 150, 120, 110], \n",
    "\n",
    "ks = [401, 574, 874, 919, 459, 739, 653, 902, 746, 832]. \n",
    "\n",
    "#### Используя математические операции, посчитать коэффициенты линейной регрессии, приняв за X заработную плату (то есть, zp - признак), а за y - значения скорингового балла (то есть, ks - целевая переменная). Произвести расчет как с использованием intercept, так и без.\n"
   ]
  },
  {
   "cell_type": "code",
   "execution_count": 84,
   "id": "7c69609a",
   "metadata": {},
   "outputs": [],
   "source": [
    "zp = np.array([35, 45, 190, 200, 40, 70, 54, 150, 120, 110])\n",
    "ks = np.array([401, 574, 874, 919, 459, 739, 653, 902, 746, 832])"
   ]
  },
  {
   "cell_type": "markdown",
   "id": "0f0ba509",
   "metadata": {},
   "source": [
    "1."
   ]
  },
  {
   "cell_type": "code",
   "execution_count": 85,
   "id": "7dcadbe7",
   "metadata": {},
   "outputs": [
    {
     "data": {
      "text/plain": [
       "(2.620538882402765, 444.1773573243596)"
      ]
     },
     "execution_count": 85,
     "metadata": {},
     "output_type": "execute_result"
    }
   ],
   "source": [
    "b1 = (np.mean(zp*ks) - np.mean(zp)*np.mean(ks)) / (np.mean(zp**2) - np.mean(zp)**2)\n",
    "b0 = np.mean(ks) - b1 * np.mean(zp)\n",
    "b1, b0"
   ]
  },
  {
   "cell_type": "markdown",
   "id": "d47550b0",
   "metadata": {},
   "source": [
    "2."
   ]
  },
  {
   "cell_type": "code",
   "execution_count": 12,
   "id": "3be2bfce",
   "metadata": {},
   "outputs": [
    {
     "data": {
      "text/plain": [
       "2.6205388824027653"
      ]
     },
     "execution_count": 12,
     "metadata": {},
     "output_type": "execute_result"
    }
   ],
   "source": [
    "b1 = (len(zp) * np.sum(zp * ks) - np.sum(zp) * np.sum(ks)) / (len(zp) * np.sum(zp**2) - np.sum(zp)**2)\n",
    "b1"
   ]
  },
  {
   "cell_type": "markdown",
   "id": "80a6808d",
   "metadata": {},
   "source": [
    "#### 2. Посчитать коэффициент линейной регрессии при заработной плате (zp), используя градиентный спуск (без intercept).\n",
    "\n"
   ]
  },
  {
   "cell_type": "code",
   "execution_count": 165,
   "id": "6c7ce650",
   "metadata": {},
   "outputs": [],
   "source": [
    "def mse_ (b1, y = ks, x = zp, n = len(zp)):\n",
    "    return np.sum((b1 * x - y)**2) / n"
   ]
  },
  {
   "cell_type": "code",
   "execution_count": 166,
   "id": "202359d9",
   "metadata": {},
   "outputs": [],
   "source": [
    "alpha = 0.00001\n",
    "b1 = 0.1\n",
    "n = len(zp)"
   ]
  },
  {
   "cell_type": "code",
   "execution_count": 167,
   "id": "57389284",
   "metadata": {},
   "outputs": [
    {
     "name": "stdout",
     "output_type": "stream",
     "text": [
      "i = 0, b1 = 1.6952808000000004, mse = 298904.5992334053\n",
      "i = 5000, b1 = 5.889820420132688, mse = 56516.8584157194\n",
      "i = 10000, b1 = 5.889820420132688, mse = 56516.8584157194\n",
      "i = 15000, b1 = 5.889820420132688, mse = 56516.8584157194\n",
      "i = 20000, b1 = 5.889820420132688, mse = 56516.8584157194\n",
      "i = 25000, b1 = 5.889820420132688, mse = 56516.8584157194\n",
      "i = 30000, b1 = 5.889820420132688, mse = 56516.8584157194\n",
      "i = 35000, b1 = 5.889820420132688, mse = 56516.8584157194\n",
      "i = 40000, b1 = 5.889820420132688, mse = 56516.8584157194\n",
      "i = 45000, b1 = 5.889820420132688, mse = 56516.8584157194\n",
      "i = 50000, b1 = 5.889820420132688, mse = 56516.8584157194\n",
      "i = 55000, b1 = 5.889820420132688, mse = 56516.8584157194\n",
      "i = 60000, b1 = 5.889820420132688, mse = 56516.8584157194\n",
      "i = 65000, b1 = 5.889820420132688, mse = 56516.8584157194\n",
      "i = 70000, b1 = 5.889820420132688, mse = 56516.8584157194\n",
      "i = 75000, b1 = 5.889820420132688, mse = 56516.8584157194\n",
      "i = 80000, b1 = 5.889820420132688, mse = 56516.8584157194\n",
      "i = 85000, b1 = 5.889820420132688, mse = 56516.8584157194\n",
      "i = 90000, b1 = 5.889820420132688, mse = 56516.8584157194\n",
      "i = 95000, b1 = 5.889820420132688, mse = 56516.8584157194\n"
     ]
    }
   ],
   "source": [
    "for i in range(100000):\n",
    "    b1 -= alpha * (2/n) * np.sum((b1 * zp - ks) * zp)\n",
    "    if i % 5000 == 0:\n",
    "        print(f'i = {i}, b1 = {b1}, mse = {mse_(b1)}')"
   ]
  },
  {
   "cell_type": "code",
   "execution_count": 133,
   "id": "e884bc70",
   "metadata": {},
   "outputs": [],
   "source": [
    "model = LinearRegression()"
   ]
  },
  {
   "cell_type": "code",
   "execution_count": 134,
   "id": "fdf7a10a",
   "metadata": {},
   "outputs": [
    {
     "data": {
      "text/plain": [
       "array([[ 35],\n",
       "       [ 45],\n",
       "       [190],\n",
       "       [200],\n",
       "       [ 40],\n",
       "       [ 70],\n",
       "       [ 54],\n",
       "       [150],\n",
       "       [120],\n",
       "       [110]])"
      ]
     },
     "execution_count": 134,
     "metadata": {},
     "output_type": "execute_result"
    }
   ],
   "source": [
    "x = zp.reshape(-1,1)\n",
    "x"
   ]
  },
  {
   "cell_type": "code",
   "execution_count": 135,
   "id": "f6940b1c",
   "metadata": {},
   "outputs": [
    {
     "data": {
      "text/plain": [
       "(444.1773573243596, array([2.62053888]))"
      ]
     },
     "execution_count": 135,
     "metadata": {},
     "output_type": "execute_result"
    }
   ],
   "source": [
    "regres = model.fit(x, ks)\n",
    "regres.intercept_, regres.coef_"
   ]
  },
  {
   "cell_type": "markdown",
   "id": "4da6015c",
   "metadata": {},
   "source": [
    "#### 3. Произвести вычисления как в пункте 2, но с вычислением intercept. Учесть, что изменение коэффициентов должно производиться на каждом шаге одновременно (то есть изменение одного коэффициента не должно влиять на изменение другого во время одной итерации)."
   ]
  },
  {
   "cell_type": "code",
   "execution_count": 172,
   "id": "f30d444c",
   "metadata": {},
   "outputs": [],
   "source": [
    "b0 = 0.1"
   ]
  },
  {
   "cell_type": "code",
   "execution_count": 173,
   "id": "eae82e63",
   "metadata": {},
   "outputs": [
    {
     "name": "stdout",
     "output_type": "stream",
     "text": [
      "i = 0, b1 = 5.889820420132688, b0 = 3.345465200000001, mse = 56516.8584157194\n",
      "i = 5000, b1 = 5.889820420132688, b0 = 1600.3656186242813, mse = 56516.8584157194\n",
      "i = 10000, b1 = 5.889820420132688, b0 = 1600.4280054523379, mse = 56516.8584157194\n",
      "i = 15000, b1 = 5.889820420132688, b0 = 1600.428007889444, mse = 56516.8584157194\n",
      "i = 20000, b1 = 5.889820420132688, b0 = 1600.4280078894903, mse = 56516.8584157194\n",
      "i = 25000, b1 = 5.889820420132688, b0 = 1600.4280078894903, mse = 56516.8584157194\n",
      "i = 30000, b1 = 5.889820420132688, b0 = 1600.4280078894903, mse = 56516.8584157194\n",
      "i = 35000, b1 = 5.889820420132688, b0 = 1600.4280078894903, mse = 56516.8584157194\n",
      "i = 40000, b1 = 5.889820420132688, b0 = 1600.4280078894903, mse = 56516.8584157194\n",
      "i = 45000, b1 = 5.889820420132688, b0 = 1600.4280078894903, mse = 56516.8584157194\n",
      "i = 50000, b1 = 5.889820420132688, b0 = 1600.4280078894903, mse = 56516.8584157194\n",
      "i = 55000, b1 = 5.889820420132688, b0 = 1600.4280078894903, mse = 56516.8584157194\n",
      "i = 60000, b1 = 5.889820420132688, b0 = 1600.4280078894903, mse = 56516.8584157194\n",
      "i = 65000, b1 = 5.889820420132688, b0 = 1600.4280078894903, mse = 56516.8584157194\n",
      "i = 70000, b1 = 5.889820420132688, b0 = 1600.4280078894903, mse = 56516.8584157194\n",
      "i = 75000, b1 = 5.889820420132688, b0 = 1600.4280078894903, mse = 56516.8584157194\n",
      "i = 80000, b1 = 5.889820420132688, b0 = 1600.4280078894903, mse = 56516.8584157194\n",
      "i = 85000, b1 = 5.889820420132688, b0 = 1600.4280078894903, mse = 56516.8584157194\n",
      "i = 90000, b1 = 5.889820420132688, b0 = 1600.4280078894903, mse = 56516.8584157194\n",
      "i = 95000, b1 = 5.889820420132688, b0 = 1600.4280078894903, mse = 56516.8584157194\n"
     ]
    }
   ],
   "source": [
    "for i in range(100000):\n",
    "    b1 -= alpha * (2/n) * np.sum((b1 * zp - ks) * zp)\n",
    "    b0 -= alpha * (2/n) * np.sum((b0 - b1 * zp - ks) * zp)\n",
    "    if i % 5000 == 0:\n",
    "        print(f'i = {i}, b1 = {b1}, b0 = {b0}, mse = {mse_(b1)}')"
   ]
  }
 ],
 "metadata": {
  "kernelspec": {
   "display_name": "Python 3 (ipykernel)",
   "language": "python",
   "name": "python3"
  },
  "language_info": {
   "codemirror_mode": {
    "name": "ipython",
    "version": 3
   },
   "file_extension": ".py",
   "mimetype": "text/x-python",
   "name": "python",
   "nbconvert_exporter": "python",
   "pygments_lexer": "ipython3",
   "version": "3.9.7"
  }
 },
 "nbformat": 4,
 "nbformat_minor": 5
}
